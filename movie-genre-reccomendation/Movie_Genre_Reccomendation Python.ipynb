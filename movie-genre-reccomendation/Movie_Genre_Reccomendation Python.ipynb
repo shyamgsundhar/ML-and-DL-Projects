{
  "cells": [
    {
      "cell_type": "code",
      "execution_count": 44,
      "metadata": {
        "id": "oszmXx69csIY"
      },
      "outputs": [
        {
          "name": "stderr",
          "output_type": "stream",
          "text": [
            "The system cannot find the path specified.\n"
          ]
        },
        {
          "name": "stdout",
          "output_type": "stream",
          "text": [
            "Downloading dataseta, 43729191 bytes compressed\n",
            "[==================================================] 43729191 bytes downloaded\n",
            "Downloaded and uncompressed: dataseta\n",
            "Data source import complete.\n"
          ]
        }
      ],
      "source": [
        "\n",
        "# IMPORTANT: RUN THIS CELL IN ORDER TO IMPORT YOUR KAGGLE DATA SOURCES\n",
        "# TO THE CORRECT LOCATION (/kaggle/input) IN YOUR NOTEBOOK,\n",
        "# THEN FEEL FREE TO DELETE THIS CELL.\n",
        "# NOTE: THIS NOTEBOOK ENVIRONMENT DIFFERS FROM KAGGLE'S PYTHON\n",
        "# ENVIRONMENT SO THERE MAY BE MISSING LIBRARIES USED BY YOUR\n",
        "# NOTEBOOK.\n",
        "\n",
        "import os\n",
        "import sys\n",
        "from tempfile import NamedTemporaryFile\n",
        "from urllib.request import urlopen\n",
        "from urllib.parse import unquote, urlparse\n",
        "from urllib.error import HTTPError\n",
        "from zipfile import ZipFile\n",
        "import tarfile\n",
        "import shutil\n",
        "\n",
        "CHUNK_SIZE = 40960\n",
        "DATA_SOURCE_MAPPING = 'dataseta:https%3A%2F%2Fstorage.googleapis.com%2Fkaggle-data-sets%2F4440556%2F7623069%2Fbundle%2Farchive.zip%3FX-Goog-Algorithm%3DGOOG4-RSA-SHA256%26X-Goog-Credential%3Dgcp-kaggle-com%2540kaggle-161607.iam.gserviceaccount.com%252F20240214%252Fauto%252Fstorage%252Fgoog4_request%26X-Goog-Date%3D20240214T092625Z%26X-Goog-Expires%3D259200%26X-Goog-SignedHeaders%3Dhost%26X-Goog-Signature%3D3cf1778ef2d7073e4b592176f12da380c4998a92188dfa260cd3c59baf2d77648d96e1698f7367aeceef159544d6dc737086f16b12b63d740b8a14e1f68b8e3a906c5298bd5de1cb3c266a4c0ed9bb81ace3ed416a4e7f4d0349f8b5abc6851d014436c281b2d2e3cb0f240d9944d4f6079294d73ea3c080a79dbfd9fbf09693c343aff08f84b297ea68a9f6ea045ed8e65b820b4179b11943b0e552f255a8e1742cc266bf034aee38ef6dda8a05e221d22fcc541324d837b22bf2087d7a8f071943c125857c78a088aa784c7c0ffd92d8e02e6385f9d0eaef71a0beb76daec6171eab64a0b7dea63466738e1aaf82b17ac8eaff0a7137a75052ca25ba5ee3dc'\n",
        "\n",
        "KAGGLE_INPUT_PATH='/kaggle/input'\n",
        "KAGGLE_WORKING_PATH='/kaggle/working'\n",
        "KAGGLE_SYMLINK='kaggle'\n",
        "\n",
        "!umount /kaggle/input/ 2> /dev/null\n",
        "shutil.rmtree('/kaggle/input', ignore_errors=True)\n",
        "os.makedirs(KAGGLE_INPUT_PATH, 0o777, exist_ok=True)\n",
        "os.makedirs(KAGGLE_WORKING_PATH, 0o777, exist_ok=True)\n",
        "\n",
        "\n",
        "#\n",
        "\n",
        "for data_source_mapping in DATA_SOURCE_MAPPING.split(','):\n",
        "    directory, download_url_encoded = data_source_mapping.split(':')\n",
        "    download_url = unquote(download_url_encoded)\n",
        "    filename = urlparse(download_url).path\n",
        "    destination_path = os.path.join(KAGGLE_INPUT_PATH, directory)\n",
        "    try:\n",
        "        with urlopen(download_url) as fileres, NamedTemporaryFile() as tfile:\n",
        "            total_length = fileres.headers['content-length']\n",
        "            print(f'Downloading {directory}, {total_length} bytes compressed')\n",
        "            dl = 0\n",
        "            data = fileres.read(CHUNK_SIZE)\n",
        "            while len(data) > 0:\n",
        "                dl += len(data)\n",
        "                tfile.write(data)\n",
        "                done = int(50 * dl / int(total_length))\n",
        "                sys.stdout.write(f\"\\r[{'=' * done}{' ' * (50-done)}] {dl} bytes downloaded\")\n",
        "                sys.stdout.flush()\n",
        "                data = fileres.read(CHUNK_SIZE)\n",
        "            if filename.endswith('.zip'):\n",
        "              with ZipFile(tfile) as zfile:\n",
        "                zfile.extractall(destination_path)\n",
        "            else:\n",
        "              with tarfile.open(tfile.name) as tarfile:\n",
        "                tarfile.extractall(destination_path)\n",
        "            print(f'\\nDownloaded and uncompressed: {directory}')\n",
        "    except HTTPError as e:\n",
        "        print(f'Failed to load (likely expired) {download_url} to path {destination_path}')\n",
        "        continue\n",
        "    except OSError as e:\n",
        "        print(f'Failed to load {download_url} to path {destination_path}')\n",
        "        continue\n",
        "\n",
        "print('Data source import complete.')\n"
      ]
    },
    {
      "cell_type": "code",
      "execution_count": 45,
      "metadata": {},
      "outputs": [
        {
          "name": "stdout",
          "output_type": "stream",
          "text": [
            "Requirement already satisfied: matplotlib in c:\\users\\admin\\appdata\\local\\programs\\python\\python39\\lib\\site-packages (3.8.3)\n",
            "Requirement already satisfied: python-dateutil>=2.7 in c:\\users\\admin\\appdata\\roaming\\python\\python39\\site-packages (from matplotlib) (2.8.2)\n",
            "Requirement already satisfied: numpy<2,>=1.21 in c:\\users\\admin\\appdata\\local\\programs\\python\\python39\\lib\\site-packages (from matplotlib) (1.26.4)\n",
            "Requirement already satisfied: cycler>=0.10 in c:\\users\\admin\\appdata\\local\\programs\\python\\python39\\lib\\site-packages (from matplotlib) (0.12.1)\n",
            "Requirement already satisfied: contourpy>=1.0.1 in c:\\users\\admin\\appdata\\local\\programs\\python\\python39\\lib\\site-packages (from matplotlib) (1.2.0)\n",
            "Requirement already satisfied: importlib-resources>=3.2.0 in c:\\users\\admin\\appdata\\local\\programs\\python\\python39\\lib\\site-packages (from matplotlib) (6.1.1)\n",
            "Requirement already satisfied: fonttools>=4.22.0 in c:\\users\\admin\\appdata\\local\\programs\\python\\python39\\lib\\site-packages (from matplotlib) (4.48.1)\n",
            "Requirement already satisfied: kiwisolver>=1.3.1 in c:\\users\\admin\\appdata\\local\\programs\\python\\python39\\lib\\site-packages (from matplotlib) (1.4.5)\n",
            "Requirement already satisfied: pyparsing>=2.3.1 in c:\\users\\admin\\appdata\\local\\programs\\python\\python39\\lib\\site-packages (from matplotlib) (3.1.1)\n",
            "Requirement already satisfied: pillow>=8 in c:\\users\\admin\\appdata\\local\\programs\\python\\python39\\lib\\site-packages (from matplotlib) (10.2.0)\n",
            "Requirement already satisfied: packaging>=20.0 in c:\\users\\admin\\appdata\\roaming\\python\\python39\\site-packages (from matplotlib) (23.2)\n",
            "Requirement already satisfied: zipp>=3.1.0 in c:\\users\\admin\\appdata\\roaming\\python\\python39\\site-packages (from importlib-resources>=3.2.0->matplotlib) (3.17.0)\n",
            "Requirement already satisfied: six>=1.5 in c:\\users\\admin\\appdata\\roaming\\python\\python39\\site-packages (from python-dateutil>=2.7->matplotlib) (1.16.0)\n",
            "Note: you may need to restart the kernel to use updated packages.\n"
          ]
        },
        {
          "name": "stderr",
          "output_type": "stream",
          "text": [
            "WARNING: You are using pip version 21.2.3; however, version 24.0 is available.\n",
            "You should consider upgrading via the 'c:\\Users\\Admin\\AppData\\Local\\Programs\\Python\\Python39\\python.exe -m pip install --upgrade pip' command.\n"
          ]
        },
        {
          "name": "stdout",
          "output_type": "stream",
          "text": [
            "Requirement already satisfied: seaborn in c:\\users\\admin\\appdata\\local\\programs\\python\\python39\\lib\\site-packages (0.13.2)Note: you may need to restart the kernel to use updated packages.\n",
            "\n",
            "Requirement already satisfied: pandas>=1.2 in c:\\users\\admin\\appdata\\local\\programs\\python\\python39\\lib\\site-packages (from seaborn) (2.2.0)\n",
            "Requirement already satisfied: matplotlib!=3.6.1,>=3.4 in c:\\users\\admin\\appdata\\local\\programs\\python\\python39\\lib\\site-packages (from seaborn) (3.8.3)\n",
            "Requirement already satisfied: numpy!=1.24.0,>=1.20 in c:\\users\\admin\\appdata\\local\\programs\\python\\python39\\lib\\site-packages (from seaborn) (1.26.4)\n",
            "Requirement already satisfied: importlib-resources>=3.2.0 in c:\\users\\admin\\appdata\\local\\programs\\python\\python39\\lib\\site-packages (from matplotlib!=3.6.1,>=3.4->seaborn) (6.1.1)\n",
            "Requirement already satisfied: contourpy>=1.0.1 in c:\\users\\admin\\appdata\\local\\programs\\python\\python39\\lib\\site-packages (from matplotlib!=3.6.1,>=3.4->seaborn) (1.2.0)\n",
            "Requirement already satisfied: cycler>=0.10 in c:\\users\\admin\\appdata\\local\\programs\\python\\python39\\lib\\site-packages (from matplotlib!=3.6.1,>=3.4->seaborn) (0.12.1)\n",
            "Requirement already satisfied: pyparsing>=2.3.1 in c:\\users\\admin\\appdata\\local\\programs\\python\\python39\\lib\\site-packages (from matplotlib!=3.6.1,>=3.4->seaborn) (3.1.1)\n",
            "Requirement already satisfied: python-dateutil>=2.7 in c:\\users\\admin\\appdata\\roaming\\python\\python39\\site-packages (from matplotlib!=3.6.1,>=3.4->seaborn) (2.8.2)\n",
            "Requirement already satisfied: kiwisolver>=1.3.1 in c:\\users\\admin\\appdata\\local\\programs\\python\\python39\\lib\\site-packages (from matplotlib!=3.6.1,>=3.4->seaborn) (1.4.5)\n",
            "Requirement already satisfied: fonttools>=4.22.0 in c:\\users\\admin\\appdata\\local\\programs\\python\\python39\\lib\\site-packages (from matplotlib!=3.6.1,>=3.4->seaborn) (4.48.1)\n",
            "Requirement already satisfied: packaging>=20.0 in c:\\users\\admin\\appdata\\roaming\\python\\python39\\site-packages (from matplotlib!=3.6.1,>=3.4->seaborn) (23.2)\n",
            "Requirement already satisfied: pillow>=8 in c:\\users\\admin\\appdata\\local\\programs\\python\\python39\\lib\\site-packages (from matplotlib!=3.6.1,>=3.4->seaborn) (10.2.0)\n",
            "Requirement already satisfied: zipp>=3.1.0 in c:\\users\\admin\\appdata\\roaming\\python\\python39\\site-packages (from importlib-resources>=3.2.0->matplotlib!=3.6.1,>=3.4->seaborn) (3.17.0)\n",
            "Requirement already satisfied: pytz>=2020.1 in c:\\users\\admin\\appdata\\local\\programs\\python\\python39\\lib\\site-packages (from pandas>=1.2->seaborn) (2024.1)\n",
            "Requirement already satisfied: tzdata>=2022.7 in c:\\users\\admin\\appdata\\local\\programs\\python\\python39\\lib\\site-packages (from pandas>=1.2->seaborn) (2024.1)\n",
            "Requirement already satisfied: six>=1.5 in c:\\users\\admin\\appdata\\roaming\\python\\python39\\site-packages (from python-dateutil>=2.7->matplotlib!=3.6.1,>=3.4->seaborn) (1.16.0)\n"
          ]
        },
        {
          "name": "stderr",
          "output_type": "stream",
          "text": [
            "WARNING: You are using pip version 21.2.3; however, version 24.0 is available.\n",
            "You should consider upgrading via the 'c:\\Users\\Admin\\AppData\\Local\\Programs\\Python\\Python39\\python.exe -m pip install --upgrade pip' command.\n"
          ]
        },
        {
          "name": "stdout",
          "output_type": "stream",
          "text": [
            "Requirement already satisfied: sklearn in c:\\users\\admin\\appdata\\local\\programs\\python\\python39\\lib\\site-packages (0.0)\n",
            "Requirement already satisfied: scikit-learn in c:\\users\\admin\\appdata\\local\\programs\\python\\python39\\lib\\site-packages (from sklearn) (1.4.0)\n",
            "Requirement already satisfied: numpy<2.0,>=1.19.5 in c:\\users\\admin\\appdata\\local\\programs\\python\\python39\\lib\\site-packages (from scikit-learn->sklearn) (1.26.4)\n",
            "Requirement already satisfied: scipy>=1.6.0 in c:\\users\\admin\\appdata\\local\\programs\\python\\python39\\lib\\site-packages (from scikit-learn->sklearn) (1.12.0)\n",
            "Requirement already satisfied: joblib>=1.2.0 in c:\\users\\admin\\appdata\\local\\programs\\python\\python39\\lib\\site-packages (from scikit-learn->sklearn) (1.3.2)\n",
            "Requirement already satisfied: threadpoolctl>=2.0.0 in c:\\users\\admin\\appdata\\local\\programs\\python\\python39\\lib\\site-packages (from scikit-learn->sklearn) (3.3.0)\n",
            "Note: you may need to restart the kernel to use updated packages.\n"
          ]
        },
        {
          "name": "stderr",
          "output_type": "stream",
          "text": [
            "WARNING: You are using pip version 21.2.3; however, version 24.0 is available.\n",
            "You should consider upgrading via the 'c:\\Users\\Admin\\AppData\\Local\\Programs\\Python\\Python39\\python.exe -m pip install --upgrade pip' command.\n"
          ]
        }
      ],
      "source": [
        "%pip install matplotlib\n",
        "%pip install seaborn\n",
        "%pip install sklearn"
      ]
    },
    {
      "cell_type": "code",
      "execution_count": 46,
      "metadata": {
        "execution": {
          "iopub.execute_input": "2024-02-14T09:17:36.397202Z",
          "iopub.status.busy": "2024-02-14T09:17:36.396787Z",
          "iopub.status.idle": "2024-02-14T09:17:37.952324Z",
          "shell.execute_reply": "2024-02-14T09:17:37.950925Z",
          "shell.execute_reply.started": "2024-02-14T09:17:36.397168Z"
        },
        "id": "etxfV1AwcsIb",
        "trusted": true
      },
      "outputs": [],
      "source": [
        "import numpy as np\n",
        "import pandas as pd\n",
        "import matplotlib.pyplot as plt\n",
        "import seaborn as sns\n",
        "import sklearn\n",
        "from sklearn.model_selection import train_test_split\n",
        "from sklearn.feature_extraction.text import TfidfVectorizer\n",
        "from sklearn.preprocessing import LabelEncoder\n",
        "from sklearn.linear_model import LogisticRegression\n",
        "from sklearn.svm import LinearSVC\n",
        "from sklearn.naive_bayes import MultinomialNB\n",
        "from sklearn.metrics import classification_report\n",
        "from sklearn.metrics import accuracy_score"
      ]
    },
    {
      "cell_type": "code",
      "execution_count": 47,
      "metadata": {
        "execution": {
          "iopub.execute_input": "2024-02-14T09:17:37.955526Z",
          "iopub.status.busy": "2024-02-14T09:17:37.954701Z",
          "iopub.status.idle": "2024-02-14T09:17:40.431232Z",
          "shell.execute_reply": "2024-02-14T09:17:40.43005Z",
          "shell.execute_reply.started": "2024-02-14T09:17:37.955488Z"
        },
        "id": "yHmPcRokcsIc",
        "trusted": true
      },
      "outputs": [],
      "source": [
        "mg_train = pd.read_csv(\"/kaggle/input/dataseta/train_data.txt\", sep=':::', names=['ID', 'TITLE', 'GENRE', 'DESCRIPTION'],engine='python')\n",
        "mg_test = pd.read_csv(\"/kaggle/input/dataseta/test_data.txt\", sep=':::', names=['ID', 'TITLE', 'GENRE', 'DESCRIPTION'],engine='python')\n",
        "mg_test_sol = pd.read_csv(\"/kaggle/input/dataseta/test_data_solution.txt\", sep=':::', names=['ID', 'TITLE', 'GENRE', 'DESCRIPTION'],engine='python')"
      ]
    },
    {
      "cell_type": "code",
      "execution_count": 48,
      "metadata": {
        "execution": {
          "iopub.execute_input": "2024-02-14T09:17:40.433107Z",
          "iopub.status.busy": "2024-02-14T09:17:40.432709Z",
          "iopub.status.idle": "2024-02-14T09:17:41.033369Z",
          "shell.execute_reply": "2024-02-14T09:17:41.03156Z",
          "shell.execute_reply.started": "2024-02-14T09:17:40.433068Z"
        },
        "id": "hCrKE9GXcsIc",
        "outputId": "af0739e0-248a-4a7e-d651-26ea7fc52d0a",
        "trusted": true
      },
      "outputs": [
        {
          "data": {
            "image/png": "[encoded data removed]",
            "text/plain": [
              "<Figure size 2000x600 with 1 Axes>"
            ]
          },
          "metadata": {},
          "output_type": "display_data"
        }
      ],
      "source": [
        "gen_counts = mg_train['GENRE'].value_counts()\n",
        "plt.figure(figsize=(20,6))\n",
        "gen_counts.plot(kind='bar')\n",
        "plt.title('Genre Distribution')\n",
        "plt.xlabel('Genre')\n",
        "plt.ylabel('Frequency')\n",
        "plt.show()"
      ]
    },
    {
      "cell_type": "code",
      "execution_count": 49,
      "metadata": {
        "execution": {
          "iopub.execute_input": "2024-02-14T09:17:41.038905Z",
          "iopub.status.busy": "2024-02-14T09:17:41.037542Z",
          "iopub.status.idle": "2024-02-14T09:17:41.370684Z",
          "shell.execute_reply": "2024-02-14T09:17:41.369745Z",
          "shell.execute_reply.started": "2024-02-14T09:17:41.038843Z"
        },
        "id": "KcTW1mnacsIe",
        "outputId": "c5cf3670-aec8-4272-d596-7a137b703c85",
        "trusted": true
      },
      "outputs": [
        {
          "data": {
            "image/png": "[encoded data removed]",
            "text/plain": [
              "<Figure size 600x400 with 1 Axes>"
            ]
          },
          "metadata": {},
          "output_type": "display_data"
        }
      ],
      "source": [
        "top_gen = mg_train['GENRE'].value_counts().nlargest(5).index\n",
        "top_gen_df = mg_train[mg_train['GENRE'].isin(top_gen)]\n",
        "plt.figure(figsize=(6,4))\n",
        "sns.countplot(data=top_gen_df, x='GENRE', order=top_gen,color='cyan')\n",
        "plt.title('Top Genres')\n",
        "plt.xlabel('Genre')\n",
        "plt.ylabel('Count')\n",
        "plt.show()"
      ]
    },
    {
      "cell_type": "code",
      "execution_count": 50,
      "metadata": {
        "execution": {
          "iopub.execute_input": "2024-02-14T09:17:41.373028Z",
          "iopub.status.busy": "2024-02-14T09:17:41.372084Z",
          "iopub.status.idle": "2024-02-14T09:17:41.563718Z",
          "shell.execute_reply": "2024-02-14T09:17:41.561992Z",
          "shell.execute_reply.started": "2024-02-14T09:17:41.372986Z"
        },
        "id": "cREc1J7tcsIf",
        "outputId": "0627107b-09b5-4d8a-d054-f0e8ba732280",
        "trusted": true
      },
      "outputs": [
        {
          "data": {
            "image/png": "[encoded data removed]",
            "text/plain": [
              "<Figure size 400x400 with 1 Axes>"
            ]
          },
          "metadata": {},
          "output_type": "display_data"
        }
      ],
      "source": [
        "gen_counts = mg_train['GENRE'].value_counts().nlargest(5)\n",
        "col = sns.color_palette('pastel')[0:len(gen_counts)]\n",
        "plt.figure(figsize=(4,4))\n",
        "plt.pie(gen_counts, labels=gen_counts.index, autopct='%1.1f%%', startangle=140, colors=col)\n",
        "plt.title('Distribution')\n",
        "plt.show()"
      ]
    },
    {
      "cell_type": "code",
      "execution_count": 51,
      "metadata": {
        "execution": {
          "iopub.execute_input": "2024-02-14T09:17:41.567272Z",
          "iopub.status.busy": "2024-02-14T09:17:41.566266Z",
          "iopub.status.idle": "2024-02-14T09:17:49.323092Z",
          "shell.execute_reply": "2024-02-14T09:17:49.321969Z",
          "shell.execute_reply.started": "2024-02-14T09:17:41.567209Z"
        },
        "id": "McApTw_8csIf",
        "trusted": true
      },
      "outputs": [],
      "source": [
        "tf = TfidfVectorizer(max_features=1000)\n",
        "x_tr = tf.fit_transform(mg_train['DESCRIPTION'])\n",
        "label_encoder = LabelEncoder()\n",
        "y_tr = label_encoder.fit_transform(mg_train['GENRE'])\n",
        "y_ts = label_encoder.fit_transform(mg_test_sol['GENRE'])"
      ]
    },
    {
      "cell_type": "code",
      "execution_count": 52,
      "metadata": {
        "execution": {
          "iopub.execute_input": "2024-02-14T09:17:49.326477Z",
          "iopub.status.busy": "2024-02-14T09:17:49.325741Z",
          "iopub.status.idle": "2024-02-14T09:17:49.349368Z",
          "shell.execute_reply": "2024-02-14T09:17:49.347859Z",
          "shell.execute_reply.started": "2024-02-14T09:17:49.326434Z"
        },
        "id": "INoe5y0fcsIg",
        "trusted": true
      },
      "outputs": [],
      "source": [
        "X_train, X_test, y_train, y_test = train_test_split(x_tr, y_tr, test_size=0.2, random_state=42)"
      ]
    },
    {
      "cell_type": "code",
      "execution_count": 53,
      "metadata": {
        "execution": {
          "iopub.execute_input": "2024-02-14T09:17:49.351875Z",
          "iopub.status.busy": "2024-02-14T09:17:49.351361Z",
          "iopub.status.idle": "2024-02-14T09:18:45.381806Z",
          "shell.execute_reply": "2024-02-14T09:18:45.380308Z",
          "shell.execute_reply.started": "2024-02-14T09:17:49.351834Z"
        },
        "id": "BDHRZSV7csIg",
        "outputId": "b91f9a33-d297-4703-e7d1-5bd3b74ddedc",
        "trusted": true
      },
      "outputs": [
        {
          "name": "stdout",
          "output_type": "stream",
          "text": [
            "               precision    recall  f1-score   support\n",
            "\n",
            "      action        0.37      0.17      0.24       263\n",
            "       adult        0.65      0.18      0.28       112\n",
            "   adventure        0.36      0.09      0.14       139\n",
            "   animation        0.45      0.05      0.09       104\n",
            "   biography        1.00      0.00      0.00        61\n",
            "      comedy        0.47      0.52      0.49      1443\n",
            "       crime        0.25      0.03      0.05       107\n",
            " documentary        0.65      0.84      0.74      2659\n",
            "       drama        0.53      0.75      0.62      2697\n",
            "      family        0.35      0.09      0.14       150\n",
            "     fantasy        1.00      0.00      0.00        74\n",
            "   game-show        0.85      0.28      0.42        40\n",
            "     history        1.00      0.00      0.00        45\n",
            "      horror        0.55      0.50      0.52       431\n",
            "       music        0.57      0.42      0.48       144\n",
            "     musical        1.00      0.04      0.08        50\n",
            "     mystery        0.50      0.02      0.03        56\n",
            "        news        1.00      0.03      0.06        34\n",
            "  reality-tv        0.55      0.28      0.37       192\n",
            "     romance        0.20      0.01      0.02       151\n",
            "      sci-fi        0.43      0.15      0.23       143\n",
            "       short        0.43      0.30      0.36      1045\n",
            "       sport        0.57      0.18      0.28        93\n",
            "   talk-show        0.50      0.17      0.26        81\n",
            "    thriller        0.32      0.10      0.15       309\n",
            "         war        1.00      0.00      0.00        20\n",
            "     western        0.80      0.63      0.71       200\n",
            "\n",
            "     accuracy                           0.55     10843\n",
            "    macro avg       0.61      0.22      0.25     10843\n",
            " weighted avg       0.54      0.55      0.51     10843\n",
            "\n"
          ]
        }
      ],
      "source": [
        "lr_mod = LogisticRegression(max_iter=1000)\n",
        "lr_mod.fit(X_train, y_train)\n",
        "lr_pred = lr_mod.predict(X_test)\n",
        "y_test_gen = label_encoder.inverse_transform(y_test)\n",
        "y_pred_gen = label_encoder.inverse_transform(lr_pred)\n",
        "from sklearn.metrics import classification_report\n",
        "print(classification_report(y_test_gen, y_pred_gen, zero_division=1))"
      ]
    },
    {
      "cell_type": "code",
      "execution_count": 54,
      "metadata": {
        "execution": {
          "iopub.execute_input": "2024-02-14T09:18:45.383818Z",
          "iopub.status.busy": "2024-02-14T09:18:45.383392Z",
          "iopub.status.idle": "2024-02-14T09:18:54.335041Z",
          "shell.execute_reply": "2024-02-14T09:18:54.333839Z",
          "shell.execute_reply.started": "2024-02-14T09:18:45.383785Z"
        },
        "id": "Xe_G-OtecsIh",
        "trusted": true
      },
      "outputs": [
        {
          "name": "stderr",
          "output_type": "stream",
          "text": [
            "c:\\Users\\Admin\\AppData\\Local\\Programs\\Python\\Python39\\lib\\site-packages\\sklearn\\svm\\_classes.py:31: FutureWarning: The default value of `dual` will change from `True` to `'auto'` in 1.5. Set the value of `dual` explicitly to suppress the warning.\n",
            "  warnings.warn(\n"
          ]
        }
      ],
      "source": [
        "sv_mod = LinearSVC()\n",
        "sv_mod.fit(X_train, y_train)\n",
        "sv_pred = sv_mod.predict(X_test)"
      ]
    },
    {
      "cell_type": "code",
      "execution_count": 55,
      "metadata": {
        "execution": {
          "iopub.execute_input": "2024-02-14T09:18:54.339957Z",
          "iopub.status.busy": "2024-02-14T09:18:54.339476Z",
          "iopub.status.idle": "2024-02-14T09:18:54.992451Z",
          "shell.execute_reply": "2024-02-14T09:18:54.990994Z",
          "shell.execute_reply.started": "2024-02-14T09:18:54.339916Z"
        },
        "id": "gvapBVHMcsIh",
        "outputId": "ea726db4-ba22-45c7-bf4d-fe8ce20620bc",
        "trusted": true
      },
      "outputs": [
        {
          "name": "stdout",
          "output_type": "stream",
          "text": [
            "               precision    recall  f1-score   support\n",
            "\n",
            "      action        0.32      0.16      0.21       263\n",
            "       adult        0.55      0.31      0.40       112\n",
            "   adventure        0.30      0.08      0.12       139\n",
            "   animation        0.26      0.07      0.11       104\n",
            "   biography        1.00      0.00      0.00        61\n",
            "      comedy        0.47      0.49      0.48      1443\n",
            "       crime        0.27      0.06      0.09       107\n",
            " documentary        0.65      0.85      0.74      2659\n",
            "       drama        0.54      0.73      0.62      2697\n",
            "      family        0.33      0.10      0.15       150\n",
            "     fantasy        0.00      0.00      0.00        74\n",
            "   game-show        0.64      0.45      0.53        40\n",
            "     history        1.00      0.00      0.00        45\n",
            "      horror        0.50      0.55      0.52       431\n",
            "       music        0.52      0.47      0.49       144\n",
            "     musical        0.33      0.06      0.10        50\n",
            "     mystery        0.33      0.07      0.12        56\n",
            "        news        0.50      0.09      0.15        34\n",
            "  reality-tv        0.48      0.30      0.37       192\n",
            "     romance        0.30      0.02      0.04       151\n",
            "      sci-fi        0.40      0.24      0.30       143\n",
            "       short        0.45      0.25      0.32      1045\n",
            "       sport        0.40      0.22      0.28        93\n",
            "   talk-show        0.37      0.19      0.25        81\n",
            "    thriller        0.32      0.07      0.12       309\n",
            "         war        0.17      0.05      0.08        20\n",
            "     western        0.64      0.69      0.67       200\n",
            "\n",
            "     accuracy                           0.55     10843\n",
            "    macro avg       0.45      0.24      0.27     10843\n",
            " weighted avg       0.51      0.55      0.51     10843\n",
            "\n"
          ]
        }
      ],
      "source": [
        "y_test_gen = label_encoder.inverse_transform(y_test)\n",
        "y_pred_gen = label_encoder.inverse_transform(sv_pred)\n",
        "print(classification_report(y_test_gen, y_pred_gen, zero_division=1))"
      ]
    },
    {
      "cell_type": "code",
      "execution_count": 56,
      "metadata": {
        "execution": {
          "iopub.execute_input": "2024-02-14T09:18:54.994559Z",
          "iopub.status.busy": "2024-02-14T09:18:54.994098Z",
          "iopub.status.idle": "2024-02-14T09:18:55.057115Z",
          "shell.execute_reply": "2024-02-14T09:18:55.055959Z",
          "shell.execute_reply.started": "2024-02-14T09:18:54.994518Z"
        },
        "id": "Pfanwtt7csIi",
        "outputId": "307486c3-63f1-47ad-a3c7-86dbe50842f7",
        "trusted": true
      },
      "outputs": [
        {
          "data": {
            "text/html": [
              "<style>#sk-container-id-3 {\n",
              "  /* Definition of color scheme common for light and dark mode */\n",
              "  --sklearn-color-text: black;\n",
              "  --sklearn-color-line: gray;\n",
              "  /* Definition of color scheme for unfitted estimators */\n",
              "  --sklearn-color-unfitted-level-0: #fff5e6;\n",
              "  --sklearn-color-unfitted-level-1: #f6e4d2;\n",
              "  --sklearn-color-unfitted-level-2: #ffe0b3;\n",
              "  --sklearn-color-unfitted-level-3: chocolate;\n",
              "  /* Definition of color scheme for fitted estimators */\n",
              "  --sklearn-color-fitted-level-0: #f0f8ff;\n",
              "  --sklearn-color-fitted-level-1: #d4ebff;\n",
              "  --sklearn-color-fitted-level-2: #b3dbfd;\n",
              "  --sklearn-color-fitted-level-3: cornflowerblue;\n",
              "\n",
              "  /* Specific color for light theme */\n",
              "  --sklearn-color-text-on-default-background: var(--sg-text-color, var(--theme-code-foreground, var(--jp-content-font-color1, black)));\n",
              "  --sklearn-color-background: var(--sg-background-color, var(--theme-background, var(--jp-layout-color0, white)));\n",
              "  --sklearn-color-border-box: var(--sg-text-color, var(--theme-code-foreground, var(--jp-content-font-color1, black)));\n",
              "  --sklearn-color-icon: #696969;\n",
              "\n",
              "  @media (prefers-color-scheme: dark) {\n",
              "    /* Redefinition of color scheme for dark theme */\n",
              "    --sklearn-color-text-on-default-background: var(--sg-text-color, var(--theme-code-foreground, var(--jp-content-font-color1, white)));\n",
              "    --sklearn-color-background: var(--sg-background-color, var(--theme-background, var(--jp-layout-color0, #111)));\n",
              "    --sklearn-color-border-box: var(--sg-text-color, var(--theme-code-foreground, var(--jp-content-font-color1, white)));\n",
              "    --sklearn-color-icon: #878787;\n",
              "  }\n",
              "}\n",
              "\n",
              "#sk-container-id-3 {\n",
              "  color: var(--sklearn-color-text);\n",
              "}\n",
              "\n",
              "#sk-container-id-3 pre {\n",
              "  padding: 0;\n",
              "}\n",
              "\n",
              "#sk-container-id-3 input.sk-hidden--visually {\n",
              "  border: 0;\n",
              "  clip: rect(1px 1px 1px 1px);\n",
              "  clip: rect(1px, 1px, 1px, 1px);\n",
              "  height: 1px;\n",
              "  margin: -1px;\n",
              "  overflow: hidden;\n",
              "  padding: 0;\n",
              "  position: absolute;\n",
              "  width: 1px;\n",
              "}\n",
              "\n",
              "#sk-container-id-3 div.sk-dashed-wrapped {\n",
              "  border: 1px dashed var(--sklearn-color-line);\n",
              "  margin: 0 0.4em 0.5em 0.4em;\n",
              "  box-sizing: border-box;\n",
              "  padding-bottom: 0.4em;\n",
              "  background-color: var(--sklearn-color-background);\n",
              "}\n",
              "\n",
              "#sk-container-id-3 div.sk-container {\n",
              "  /* jupyter's `normalize.less` sets `[hidden] { display: none; }`\n",
              "     but bootstrap.min.css set `[hidden] { display: none !important; }`\n",
              "     so we also need the `!important` here to be able to override the\n",
              "     default hidden behavior on the sphinx rendered scikit-learn.org.\n",
              "     See: https://github.com/scikit-learn/scikit-learn/issues/21755 */\n",
              "  display: inline-block !important;\n",
              "  position: relative;\n",
              "}\n",
              "\n",
              "#sk-container-id-3 div.sk-text-repr-fallback {\n",
              "  display: none;\n",
              "}\n",
              "\n",
              "div.sk-parallel-item,\n",
              "div.sk-serial,\n",
              "div.sk-item {\n",
              "  /* draw centered vertical line to link estimators */\n",
              "  background-image: linear-gradient(var(--sklearn-color-text-on-default-background), var(--sklearn-color-text-on-default-background));\n",
              "  background-size: 2px 100%;\n",
              "  background-repeat: no-repeat;\n",
              "  background-position: center center;\n",
              "}\n",
              "\n",
              "/* Parallel-specific style estimator block */\n",
              "\n",
              "#sk-container-id-3 div.sk-parallel-item::after {\n",
              "  content: \"\";\n",
              "  width: 100%;\n",
              "  border-bottom: 2px solid var(--sklearn-color-text-on-default-background);\n",
              "  flex-grow: 1;\n",
              "}\n",
              "\n",
              "#sk-container-id-3 div.sk-parallel {\n",
              "  display: flex;\n",
              "  align-items: stretch;\n",
              "  justify-content: center;\n",
              "  background-color: var(--sklearn-color-background);\n",
              "  position: relative;\n",
              "}\n",
              "\n",
              "#sk-container-id-3 div.sk-parallel-item {\n",
              "  display: flex;\n",
              "  flex-direction: column;\n",
              "}\n",
              "\n",
              "#sk-container-id-3 div.sk-parallel-item:first-child::after {\n",
              "  align-self: flex-end;\n",
              "  width: 50%;\n",
              "}\n",
              "\n",
              "#sk-container-id-3 div.sk-parallel-item:last-child::after {\n",
              "  align-self: flex-start;\n",
              "  width: 50%;\n",
              "}\n",
              "\n",
              "#sk-container-id-3 div.sk-parallel-item:only-child::after {\n",
              "  width: 0;\n",
              "}\n",
              "\n",
              "/* Serial-specific style estimator block */\n",
              "\n",
              "#sk-container-id-3 div.sk-serial {\n",
              "  display: flex;\n",
              "  flex-direction: column;\n",
              "  align-items: center;\n",
              "  background-color: var(--sklearn-color-background);\n",
              "  padding-right: 1em;\n",
              "  padding-left: 1em;\n",
              "}\n",
              "\n",
              "\n",
              "/* Toggleable style: style used for estimator/Pipeline/ColumnTransformer box that is\n",
              "clickable and can be expanded/collapsed.\n",
              "- Pipeline and ColumnTransformer use this feature and define the default style\n",
              "- Estimators will overwrite some part of the style using the `sk-estimator` class\n",
              "*/\n",
              "\n",
              "/* Pipeline and ColumnTransformer style (default) */\n",
              "\n",
              "#sk-container-id-3 div.sk-toggleable {\n",
              "  /* Default theme specific background. It is overwritten whether we have a\n",
              "  specific estimator or a Pipeline/ColumnTransformer */\n",
              "  background-color: var(--sklearn-color-background);\n",
              "}\n",
              "\n",
              "/* Toggleable label */\n",
              "#sk-container-id-3 label.sk-toggleable__label {\n",
              "  cursor: pointer;\n",
              "  display: block;\n",
              "  width: 100%;\n",
              "  margin-bottom: 0;\n",
              "  padding: 0.5em;\n",
              "  box-sizing: border-box;\n",
              "  text-align: center;\n",
              "}\n",
              "\n",
              "#sk-container-id-3 label.sk-toggleable__label-arrow:before {\n",
              "  /* Arrow on the left of the label */\n",
              "  content: \"▸\";\n",
              "  float: left;\n",
              "  margin-right: 0.25em;\n",
              "  color: var(--sklearn-color-icon);\n",
              "}\n",
              "\n",
              "#sk-container-id-3 label.sk-toggleable__label-arrow:hover:before {\n",
              "  color: var(--sklearn-color-text);\n",
              "}\n",
              "\n",
              "/* Toggleable content - dropdown */\n",
              "\n",
              "#sk-container-id-3 div.sk-toggleable__content {\n",
              "  max-height: 0;\n",
              "  max-width: 0;\n",
              "  overflow: hidden;\n",
              "  text-align: left;\n",
              "  /* unfitted */\n",
              "  background-color: var(--sklearn-color-unfitted-level-0);\n",
              "}\n",
              "\n",
              "#sk-container-id-3 div.sk-toggleable__content.fitted {\n",
              "  /* fitted */\n",
              "  background-color: var(--sklearn-color-fitted-level-0);\n",
              "}\n",
              "\n",
              "#sk-container-id-3 div.sk-toggleable__content pre {\n",
              "  margin: 0.2em;\n",
              "  border-radius: 0.25em;\n",
              "  color: var(--sklearn-color-text);\n",
              "  /* unfitted */\n",
              "  background-color: var(--sklearn-color-unfitted-level-0);\n",
              "}\n",
              "\n",
              "#sk-container-id-3 div.sk-toggleable__content.fitted pre {\n",
              "  /* unfitted */\n",
              "  background-color: var(--sklearn-color-fitted-level-0);\n",
              "}\n",
              "\n",
              "#sk-container-id-3 input.sk-toggleable__control:checked~div.sk-toggleable__content {\n",
              "  /* Expand drop-down */\n",
              "  max-height: 200px;\n",
              "  max-width: 100%;\n",
              "  overflow: auto;\n",
              "}\n",
              "\n",
              "#sk-container-id-3 input.sk-toggleable__control:checked~label.sk-toggleable__label-arrow:before {\n",
              "  content: \"▾\";\n",
              "}\n",
              "\n",
              "/* Pipeline/ColumnTransformer-specific style */\n",
              "\n",
              "#sk-container-id-3 div.sk-label input.sk-toggleable__control:checked~label.sk-toggleable__label {\n",
              "  color: var(--sklearn-color-text);\n",
              "  background-color: var(--sklearn-color-unfitted-level-2);\n",
              "}\n",
              "\n",
              "#sk-container-id-3 div.sk-label.fitted input.sk-toggleable__control:checked~label.sk-toggleable__label {\n",
              "  background-color: var(--sklearn-color-fitted-level-2);\n",
              "}\n",
              "\n",
              "/* Estimator-specific style */\n",
              "\n",
              "/* Colorize estimator box */\n",
              "#sk-container-id-3 div.sk-estimator input.sk-toggleable__control:checked~label.sk-toggleable__label {\n",
              "  /* unfitted */\n",
              "  background-color: var(--sklearn-color-unfitted-level-2);\n",
              "}\n",
              "\n",
              "#sk-container-id-3 div.sk-estimator.fitted input.sk-toggleable__control:checked~label.sk-toggleable__label {\n",
              "  /* fitted */\n",
              "  background-color: var(--sklearn-color-fitted-level-2);\n",
              "}\n",
              "\n",
              "#sk-container-id-3 div.sk-label label.sk-toggleable__label,\n",
              "#sk-container-id-3 div.sk-label label {\n",
              "  /* The background is the default theme color */\n",
              "  color: var(--sklearn-color-text-on-default-background);\n",
              "}\n",
              "\n",
              "/* On hover, darken the color of the background */\n",
              "#sk-container-id-3 div.sk-label:hover label.sk-toggleable__label {\n",
              "  color: var(--sklearn-color-text);\n",
              "  background-color: var(--sklearn-color-unfitted-level-2);\n",
              "}\n",
              "\n",
              "/* Label box, darken color on hover, fitted */\n",
              "#sk-container-id-3 div.sk-label.fitted:hover label.sk-toggleable__label.fitted {\n",
              "  color: var(--sklearn-color-text);\n",
              "  background-color: var(--sklearn-color-fitted-level-2);\n",
              "}\n",
              "\n",
              "/* Estimator label */\n",
              "\n",
              "#sk-container-id-3 div.sk-label label {\n",
              "  font-family: monospace;\n",
              "  font-weight: bold;\n",
              "  display: inline-block;\n",
              "  line-height: 1.2em;\n",
              "}\n",
              "\n",
              "#sk-container-id-3 div.sk-label-container {\n",
              "  text-align: center;\n",
              "}\n",
              "\n",
              "/* Estimator-specific */\n",
              "#sk-container-id-3 div.sk-estimator {\n",
              "  font-family: monospace;\n",
              "  border: 1px dotted var(--sklearn-color-border-box);\n",
              "  border-radius: 0.25em;\n",
              "  box-sizing: border-box;\n",
              "  margin-bottom: 0.5em;\n",
              "  /* unfitted */\n",
              "  background-color: var(--sklearn-color-unfitted-level-0);\n",
              "}\n",
              "\n",
              "#sk-container-id-3 div.sk-estimator.fitted {\n",
              "  /* fitted */\n",
              "  background-color: var(--sklearn-color-fitted-level-0);\n",
              "}\n",
              "\n",
              "/* on hover */\n",
              "#sk-container-id-3 div.sk-estimator:hover {\n",
              "  /* unfitted */\n",
              "  background-color: var(--sklearn-color-unfitted-level-2);\n",
              "}\n",
              "\n",
              "#sk-container-id-3 div.sk-estimator.fitted:hover {\n",
              "  /* fitted */\n",
              "  background-color: var(--sklearn-color-fitted-level-2);\n",
              "}\n",
              "\n",
              "/* Specification for estimator info (e.g. \"i\" and \"?\") */\n",
              "\n",
              "/* Common style for \"i\" and \"?\" */\n",
              "\n",
              ".sk-estimator-doc-link,\n",
              "a:link.sk-estimator-doc-link,\n",
              "a:visited.sk-estimator-doc-link {\n",
              "  float: right;\n",
              "  font-size: smaller;\n",
              "  line-height: 1em;\n",
              "  font-family: monospace;\n",
              "  background-color: var(--sklearn-color-background);\n",
              "  border-radius: 1em;\n",
              "  height: 1em;\n",
              "  width: 1em;\n",
              "  text-decoration: none !important;\n",
              "  margin-left: 1ex;\n",
              "  /* unfitted */\n",
              "  border: var(--sklearn-color-unfitted-level-1) 1pt solid;\n",
              "  color: var(--sklearn-color-unfitted-level-1);\n",
              "}\n",
              "\n",
              ".sk-estimator-doc-link.fitted,\n",
              "a:link.sk-estimator-doc-link.fitted,\n",
              "a:visited.sk-estimator-doc-link.fitted {\n",
              "  /* fitted */\n",
              "  border: var(--sklearn-color-fitted-level-1) 1pt solid;\n",
              "  color: var(--sklearn-color-fitted-level-1);\n",
              "}\n",
              "\n",
              "/* On hover */\n",
              "div.sk-estimator:hover .sk-estimator-doc-link:hover,\n",
              ".sk-estimator-doc-link:hover,\n",
              "div.sk-label-container:hover .sk-estimator-doc-link:hover,\n",
              ".sk-estimator-doc-link:hover {\n",
              "  /* unfitted */\n",
              "  background-color: var(--sklearn-color-unfitted-level-3);\n",
              "  color: var(--sklearn-color-background);\n",
              "  text-decoration: none;\n",
              "}\n",
              "\n",
              "div.sk-estimator.fitted:hover .sk-estimator-doc-link.fitted:hover,\n",
              ".sk-estimator-doc-link.fitted:hover,\n",
              "div.sk-label-container:hover .sk-estimator-doc-link.fitted:hover,\n",
              ".sk-estimator-doc-link.fitted:hover {\n",
              "  /* fitted */\n",
              "  background-color: var(--sklearn-color-fitted-level-3);\n",
              "  color: var(--sklearn-color-background);\n",
              "  text-decoration: none;\n",
              "}\n",
              "\n",
              "/* Span, style for the box shown on hovering the info icon */\n",
              ".sk-estimator-doc-link span {\n",
              "  display: none;\n",
              "  z-index: 9999;\n",
              "  position: relative;\n",
              "  font-weight: normal;\n",
              "  right: .2ex;\n",
              "  padding: .5ex;\n",
              "  margin: .5ex;\n",
              "  width: min-content;\n",
              "  min-width: 20ex;\n",
              "  max-width: 50ex;\n",
              "  color: var(--sklearn-color-text);\n",
              "  box-shadow: 2pt 2pt 4pt #999;\n",
              "  /* unfitted */\n",
              "  background: var(--sklearn-color-unfitted-level-0);\n",
              "  border: .5pt solid var(--sklearn-color-unfitted-level-3);\n",
              "}\n",
              "\n",
              ".sk-estimator-doc-link.fitted span {\n",
              "  /* fitted */\n",
              "  background: var(--sklearn-color-fitted-level-0);\n",
              "  border: var(--sklearn-color-fitted-level-3);\n",
              "}\n",
              "\n",
              ".sk-estimator-doc-link:hover span {\n",
              "  display: block;\n",
              "}\n",
              "\n",
              "/* \"?\"-specific style due to the `<a>` HTML tag */\n",
              "\n",
              "#sk-container-id-3 a.estimator_doc_link {\n",
              "  float: right;\n",
              "  font-size: 1rem;\n",
              "  line-height: 1em;\n",
              "  font-family: monospace;\n",
              "  background-color: var(--sklearn-color-background);\n",
              "  border-radius: 1rem;\n",
              "  height: 1rem;\n",
              "  width: 1rem;\n",
              "  text-decoration: none;\n",
              "  /* unfitted */\n",
              "  color: var(--sklearn-color-unfitted-level-1);\n",
              "  border: var(--sklearn-color-unfitted-level-1) 1pt solid;\n",
              "}\n",
              "\n",
              "#sk-container-id-3 a.estimator_doc_link.fitted {\n",
              "  /* fitted */\n",
              "  border: var(--sklearn-color-fitted-level-1) 1pt solid;\n",
              "  color: var(--sklearn-color-fitted-level-1);\n",
              "}\n",
              "\n",
              "/* On hover */\n",
              "#sk-container-id-3 a.estimator_doc_link:hover {\n",
              "  /* unfitted */\n",
              "  background-color: var(--sklearn-color-unfitted-level-3);\n",
              "  color: var(--sklearn-color-background);\n",
              "  text-decoration: none;\n",
              "}\n",
              "\n",
              "#sk-container-id-3 a.estimator_doc_link.fitted:hover {\n",
              "  /* fitted */\n",
              "  background-color: var(--sklearn-color-fitted-level-3);\n",
              "}\n",
              "</style><div id=\"sk-container-id-3\" class=\"sk-top-container\"><div class=\"sk-text-repr-fallback\"><pre>MultinomialNB()</pre><b>In a Jupyter environment, please rerun this cell to show the HTML representation or trust the notebook. <br />On GitHub, the HTML representation is unable to render, please try loading this page with nbviewer.org.</b></div><div class=\"sk-container\" hidden><div class=\"sk-item\"><div class=\"sk-estimator fitted sk-toggleable\"><input class=\"sk-toggleable__control sk-hidden--visually\" id=\"sk-estimator-id-3\" type=\"checkbox\" checked><label for=\"sk-estimator-id-3\" class=\"sk-toggleable__label fitted sk-toggleable__label-arrow fitted\">&nbsp;&nbsp;MultinomialNB<a class=\"sk-estimator-doc-link fitted\" rel=\"noreferrer\" target=\"_blank\" href=\"https://scikit-learn.org/1.4/modules/generated/sklearn.naive_bayes.MultinomialNB.html\">?<span>Documentation for MultinomialNB</span></a><span class=\"sk-estimator-doc-link fitted\">i<span>Fitted</span></span></label><div class=\"sk-toggleable__content fitted\"><pre>MultinomialNB()</pre></div> </div></div></div></div>"
            ],
            "text/plain": [
              "MultinomialNB()"
            ]
          },
          "execution_count": 56,
          "metadata": {},
          "output_type": "execute_result"
        }
      ],
      "source": [
        "nb_mod = MultinomialNB()\n",
        "nb_mod.fit(X_train, y_train)"
      ]
    },
    {
      "cell_type": "code",
      "execution_count": 57,
      "metadata": {
        "execution": {
          "iopub.execute_input": "2024-02-14T09:18:55.059586Z",
          "iopub.status.busy": "2024-02-14T09:18:55.059183Z",
          "iopub.status.idle": "2024-02-14T09:18:55.075966Z",
          "shell.execute_reply": "2024-02-14T09:18:55.074698Z",
          "shell.execute_reply.started": "2024-02-14T09:18:55.05955Z"
        },
        "id": "YFuRlJ1TcsIi",
        "trusted": true
      },
      "outputs": [],
      "source": [
        "nb_pred = nb_mod.predict(X_test)"
      ]
    },
    {
      "cell_type": "code",
      "execution_count": 58,
      "metadata": {
        "execution": {
          "iopub.execute_input": "2024-02-14T09:18:55.078588Z",
          "iopub.status.busy": "2024-02-14T09:18:55.078083Z",
          "iopub.status.idle": "2024-02-14T09:18:55.707503Z",
          "shell.execute_reply": "2024-02-14T09:18:55.706065Z",
          "shell.execute_reply.started": "2024-02-14T09:18:55.078542Z"
        },
        "id": "0AFcVZUzcsIj",
        "outputId": "74f8c094-8b0a-4ae0-92dc-da60163d9102",
        "trusted": true
      },
      "outputs": [
        {
          "name": "stdout",
          "output_type": "stream",
          "text": [
            "               precision    recall  f1-score   support\n",
            "\n",
            "      action        0.00      0.00      0.00       263\n",
            "       adult        1.00      0.00      0.00       112\n",
            "   adventure        0.00      0.00      0.00       139\n",
            "   animation        1.00      0.00      0.00       104\n",
            "   biography        1.00      0.00      0.00        61\n",
            "      comedy        0.50      0.26      0.34      1443\n",
            "       crime        1.00      0.00      0.00       107\n",
            " documentary        0.53      0.89      0.66      2659\n",
            "       drama        0.41      0.83      0.55      2697\n",
            "      family        0.00      0.00      0.00       150\n",
            "     fantasy        1.00      0.00      0.00        74\n",
            "   game-show        1.00      0.05      0.10        40\n",
            "     history        1.00      0.00      0.00        45\n",
            "      horror        0.80      0.09      0.16       431\n",
            "       music        0.75      0.04      0.08       144\n",
            "     musical        1.00      0.00      0.00        50\n",
            "     mystery        1.00      0.00      0.00        56\n",
            "        news        1.00      0.00      0.00        34\n",
            "  reality-tv        1.00      0.01      0.02       192\n",
            "     romance        1.00      0.00      0.00       151\n",
            "      sci-fi        1.00      0.01      0.03       143\n",
            "       short        0.64      0.03      0.06      1045\n",
            "       sport        0.75      0.03      0.06        93\n",
            "   talk-show        1.00      0.00      0.00        81\n",
            "    thriller        0.67      0.01      0.03       309\n",
            "         war        1.00      0.00      0.00        20\n",
            "     western        0.94      0.31      0.47       200\n",
            "\n",
            "     accuracy                           0.47     10843\n",
            "    macro avg       0.78      0.10      0.09     10843\n",
            " weighted avg       0.56      0.47      0.37     10843\n",
            "\n"
          ]
        }
      ],
      "source": [
        "y_test_gen = label_encoder.inverse_transform(y_test)\n",
        "y_pred_gen = label_encoder.inverse_transform(nb_pred)\n",
        "print(classification_report(y_test_gen, y_pred_gen, zero_division=1))"
      ]
    },
    {
      "cell_type": "code",
      "execution_count": 59,
      "metadata": {
        "execution": {
          "iopub.execute_input": "2024-02-14T09:18:55.709601Z",
          "iopub.status.busy": "2024-02-14T09:18:55.709173Z",
          "iopub.status.idle": "2024-02-14T09:18:55.720066Z",
          "shell.execute_reply": "2024-02-14T09:18:55.718832Z",
          "shell.execute_reply.started": "2024-02-14T09:18:55.709557Z"
        },
        "id": "sdsErsq8csIj",
        "trusted": true
      },
      "outputs": [],
      "source": [
        "lr_acc = accuracy_score(y_test, lr_pred)\n",
        "sv_acc = accuracy_score(y_test, sv_pred)\n",
        "nb_acc = accuracy_score(y_test, nb_pred)"
      ]
    },
    {
      "cell_type": "code",
      "execution_count": 60,
      "metadata": {
        "execution": {
          "iopub.execute_input": "2024-02-14T09:18:55.722081Z",
          "iopub.status.busy": "2024-02-14T09:18:55.721657Z",
          "iopub.status.idle": "2024-02-14T09:18:55.732391Z",
          "shell.execute_reply": "2024-02-14T09:18:55.730883Z",
          "shell.execute_reply.started": "2024-02-14T09:18:55.722043Z"
        },
        "id": "Ac6A0l6AcsIj",
        "outputId": "d38b1686-6f78-4a4a-84b9-da5c2e019f46",
        "trusted": true
      },
      "outputs": [
        {
          "name": "stdout",
          "output_type": "stream",
          "text": [
            "Logistic Regression Accuracy: 0.5515078852716038\n",
            "SVM Accuracy: 0.548279996310984\n",
            "Naive Bayes Accuracy: 0.4731162962279812\n"
          ]
        }
      ],
      "source": [
        "print(\"Logistic Regression Accuracy:\", lr_acc)\n",
        "print(\"SVM Accuracy:\", sv_acc)\n",
        "print(\"Naive Bayes Accuracy:\", nb_acc)"
      ]
    },
    {
      "cell_type": "code",
      "execution_count": 61,
      "metadata": {
        "execution": {
          "iopub.execute_input": "2024-02-14T09:18:55.735136Z",
          "iopub.status.busy": "2024-02-14T09:18:55.734708Z",
          "iopub.status.idle": "2024-02-14T09:18:56.017301Z",
          "shell.execute_reply": "2024-02-14T09:18:56.015817Z",
          "shell.execute_reply.started": "2024-02-14T09:18:55.735099Z"
        },
        "id": "yHdGViBycsIk",
        "outputId": "abad6164-099c-46f9-8c9c-f197b3509a19",
        "trusted": true
      },
      "outputs": [
        {
          "data": {
            "image/png": "[encoded data removed]",
            "text/plain": [
              "<Figure size 800x600 with 1 Axes>"
            ]
          },
          "metadata": {},
          "output_type": "display_data"
        }
      ],
      "source": [
        "acc = [lr_acc, sv_acc, nb_acc]\n",
        "mod = ['Logistic Regression', 'SVM', 'Naive Bayes']\n",
        "plt.figure(figsize=(8, 6))\n",
        "plt.bar(mod, acc, color=['blue', 'green', 'orange'])\n",
        "plt.ylim(0, 1)\n",
        "plt.xlabel('Models')\n",
        "plt.ylabel('Accuracy')\n",
        "plt.title('Comparison')\n",
        "plt.show()"
      ]
    },
    {
      "cell_type": "code",
      "execution_count": null,
      "metadata": {
        "execution": {
          "iopub.execute_input": "2024-02-14T09:19:47.187596Z",
          "iopub.status.busy": "2024-02-14T09:19:47.186968Z",
          "iopub.status.idle": "2024-02-14T09:19:57.940881Z",
          "shell.execute_reply": "2024-02-14T09:19:57.939479Z",
          "shell.execute_reply.started": "2024-02-14T09:19:47.187562Z"
        },
        "id": "oA-A-ViZcsIk",
        "outputId": "44f74aae-2f9a-4091-b444-9ca7f6eac1c4",
        "trusted": true
      },
      "outputs": [],
      "source": []
    },
    {
      "cell_type": "code",
      "execution_count": 62,
      "metadata": {
        "execution": {
          "iopub.execute_input": "2024-02-14T09:23:48.627305Z",
          "iopub.status.busy": "2024-02-14T09:23:48.626825Z",
          "iopub.status.idle": "2024-02-14T09:24:05.055793Z",
          "shell.execute_reply": "2024-02-14T09:24:05.053924Z",
          "shell.execute_reply.started": "2024-02-14T09:23:48.627269Z"
        },
        "id": "hXlD6AeLcsIk",
        "outputId": "2e30669d-7928-43be-d848-effe849be0a3",
        "trusted": true
      },
      "outputs": [
        {
          "name": "stdout",
          "output_type": "stream",
          "text": [
            "Requirement already satisfied: joblib in c:\\users\\admin\\appdata\\local\\programs\\python\\python39\\lib\\site-packages (1.3.2)\n",
            "Note: you may need to restart the kernel to use updated packages.\n"
          ]
        },
        {
          "name": "stderr",
          "output_type": "stream",
          "text": [
            "WARNING: You are using pip version 21.2.3; however, version 24.0 is available.\n",
            "You should consider upgrading via the 'c:\\Users\\Admin\\AppData\\Local\\Programs\\Python\\Python39\\python.exe -m pip install --upgrade pip' command.\n"
          ]
        },
        {
          "name": "stdout",
          "output_type": "stream",
          "text": [
            "Requirement already satisfied: flask in c:\\users\\admin\\appdata\\local\\programs\\python\\python39\\lib\\site-packages (3.0.2)\n",
            "Requirement already satisfied: itsdangerous>=2.1.2 in c:\\users\\admin\\appdata\\local\\programs\\python\\python39\\lib\\site-packages (from flask) (2.1.2)\n",
            "Requirement already satisfied: Werkzeug>=3.0.0 in c:\\users\\admin\\appdata\\local\\programs\\python\\python39\\lib\\site-packages (from flask) (3.0.1)\n",
            "Requirement already satisfied: blinker>=1.6.2 in c:\\users\\admin\\appdata\\local\\programs\\python\\python39\\lib\\site-packages (from flask) (1.7.0)\n",
            "Requirement already satisfied: click>=8.1.3 in c:\\users\\admin\\appdata\\local\\programs\\python\\python39\\lib\\site-packages (from flask) (8.1.7)\n",
            "Requirement already satisfied: importlib-metadata>=3.6.0 in c:\\users\\admin\\appdata\\roaming\\python\\python39\\site-packages (from flask) (7.0.1)\n",
            "Requirement already satisfied: Jinja2>=3.1.2 in c:\\users\\admin\\appdata\\local\\programs\\python\\python39\\lib\\site-packages (from flask) (3.1.3)\n",
            "Requirement already satisfied: colorama in c:\\users\\admin\\appdata\\roaming\\python\\python39\\site-packages (from click>=8.1.3->flask) (0.4.6)\n",
            "Requirement already satisfied: zipp>=0.5 in c:\\users\\admin\\appdata\\roaming\\python\\python39\\site-packages (from importlib-metadata>=3.6.0->flask) (3.17.0)\n",
            "Requirement already satisfied: MarkupSafe>=2.0 in c:\\users\\admin\\appdata\\local\\programs\\python\\python39\\lib\\site-packages (from Jinja2>=3.1.2->flask) (2.1.5)\n",
            "Note: you may need to restart the kernel to use updated packages.\n"
          ]
        },
        {
          "name": "stderr",
          "output_type": "stream",
          "text": [
            "WARNING: You are using pip version 21.2.3; however, version 24.0 is available.\n",
            "You should consider upgrading via the 'c:\\Users\\Admin\\AppData\\Local\\Programs\\Python\\Python39\\python.exe -m pip install --upgrade pip' command.\n"
          ]
        }
      ],
      "source": [
        "%pip install joblib\n",
        "%pip install flask"
      ]
    },
    {
      "cell_type": "code",
      "execution_count": 75,
      "metadata": {
        "execution": {
          "iopub.execute_input": "2024-02-14T09:25:35.326265Z",
          "iopub.status.busy": "2024-02-14T09:25:35.325773Z",
          "iopub.status.idle": "2024-02-14T09:25:36.606302Z",
          "shell.execute_reply": "2024-02-14T09:25:36.60479Z",
          "shell.execute_reply.started": "2024-02-14T09:25:35.326153Z"
        },
        "id": "Z58DltKlcsIk",
        "outputId": "d009abf7-0aaf-4bd9-d666-c12bf3b8d926",
        "trusted": true
      },
      "outputs": [
        {
          "name": "stdout",
          "output_type": "stream",
          "text": [
            " * Serving Flask app '__main__'\n",
            " * Debug mode: off\n"
          ]
        },
        {
          "name": "stderr",
          "output_type": "stream",
          "text": [
            "WARNING: This is a development server. Do not use it in a production deployment. Use a production WSGI server instead.\n",
            " * Running on all addresses (0.0.0.0)\n",
            " * Running on http://127.0.0.1:5000\n",
            " * Running on http://192.168.9.61:5000\n",
            "Press CTRL+C to quit\n",
            "192.168.9.61 - - [15/Feb/2024 17:18:37] \"GET / HTTP/1.1\" 404 -\n",
            "192.168.9.61 - - [15/Feb/2024 17:18:37] \"GET /favicon.ico HTTP/1.1\" 404 -\n",
            "192.168.9.61 - - [15/Feb/2024 17:18:42] \"GET /predict HTTP/1.1\" 200 -\n",
            "192.168.9.61 - - [15/Feb/2024 17:18:52] \"GET /predict?description=hello HTTP/1.1\" 200 -\n",
            "192.168.9.61 - - [15/Feb/2024 17:19:20] \"POST /predict?description=hello HTTP/1.1\" 400 -\n",
            "192.168.9.61 - - [15/Feb/2024 17:20:41] \"GET /predict?description=hello HTTP/1.1\" 200 -\n",
            "192.168.9.61 - - [15/Feb/2024 17:21:18] \"GET /predict?description=two HTTP/1.1\" 200 -\n",
            "192.168.9.61 - - [15/Feb/2024 17:21:24] \"GET /predict?description=two+boy HTTP/1.1\" 200 -\n",
            "192.168.9.61 - - [15/Feb/2024 17:21:50] \"GET /predict?description=theri+boys+went+to+the+trip.they+commited+sucide HTTP/1.1\" 200 -\n",
            "192.168.9.61 - - [15/Feb/2024 17:32:28] \"GET /predict?description= HTTP/1.1\" 200 -\n",
            "192.168.9.61 - - [15/Feb/2024 17:32:29] \"GET /predict?description= HTTP/1.1\" 200 -\n",
            "192.168.9.61 - - [15/Feb/2024 17:38:34] \"GET /predict?description= HTTP/1.1\" 200 -\n",
            "192.168.9.61 - - [15/Feb/2024 17:38:34] \"GET /predict?description= HTTP/1.1\" 200 -\n",
            "192.168.9.61 - - [15/Feb/2024 17:38:36] \"GET /predict?description= HTTP/1.1\" 200 -\n",
            "192.168.9.61 - - [15/Feb/2024 17:38:36] \"GET /predict?description= HTTP/1.1\" 200 -\n",
            "192.168.9.61 - - [15/Feb/2024 17:38:37] \"GET /predict?description= HTTP/1.1\" 200 -\n",
            "192.168.9.61 - - [15/Feb/2024 17:41:55] \"GET /predict?description=Hello+from+Boys HTTP/1.1\" 200 -\n",
            "192.168.9.61 - - [15/Feb/2024 17:41:56] \"GET /predict?description=Hello+from+Boys HTTP/1.1\" 200 -\n",
            "192.168.9.61 - - [15/Feb/2024 17:41:56] \"GET /predict?description=Hello+from+Boys HTTP/1.1\" 200 -\n",
            "192.168.9.61 - - [15/Feb/2024 17:42:00] \"GET /predict?description=Hello+from+Girls HTTP/1.1\" 200 -\n",
            "192.168.9.61 - - [15/Feb/2024 17:51:47] \"GET /predict?description=Hello+from+Girls HTTP/1.1\" 200 -\n",
            "192.168.9.61 - - [15/Feb/2024 17:52:54] \"GET /predict?description=Hell HTTP/1.1\" 200 -\n",
            "192.168.9.61 - - [15/Feb/2024 17:52:54] \"GET /predict?description=Hell HTTP/1.1\" 200 -\n",
            "192.168.9.61 - - [15/Feb/2024 17:52:55] \"GET /predict?description=Hell HTTP/1.1\" 200 -\n",
            "192.168.9.61 - - [15/Feb/2024 17:52:55] \"GET /predict?description=Hell HTTP/1.1\" 200 -\n",
            "192.168.9.61 - - [15/Feb/2024 17:59:29] \"GET /predict?description=Hell HTTP/1.1\" 200 -\n",
            "192.168.9.61 - - [15/Feb/2024 17:59:31] \"GET /predict?description=Hell HTTP/1.1\" 200 -\n",
            "192.168.9.61 - - [15/Feb/2024 17:59:31] \"GET /predict?description=Hell HTTP/1.1\" 200 -\n",
            "192.168.9.61 - - [15/Feb/2024 17:59:42] \"GET /predict?description=Hell HTTP/1.1\" 200 -\n",
            "192.168.9.61 - - [15/Feb/2024 17:59:43] \"GET /predict?description=Hell HTTP/1.1\" 200 -\n",
            "192.168.9.61 - - [15/Feb/2024 17:59:47] \"GET /predict?description=Hell HTTP/1.1\" 200 -\n",
            "192.168.9.61 - - [15/Feb/2024 17:59:48] \"GET /predict?description=Hell HTTP/1.1\" 200 -\n",
            "192.168.9.61 - - [15/Feb/2024 17:59:48] \"GET /predict?description=Hell HTTP/1.1\" 200 -\n",
            "192.168.9.61 - - [15/Feb/2024 17:59:48] \"GET /predict?description=Hell HTTP/1.1\" 200 -\n",
            "192.168.9.61 - - [15/Feb/2024 18:00:01] \"GET /predict?description=Hell HTTP/1.1\" 200 -\n",
            "192.168.9.61 - - [15/Feb/2024 18:00:02] \"GET /predict?description=Hell HTTP/1.1\" 200 -\n",
            "192.168.9.61 - - [15/Feb/2024 18:00:02] \"GET /predict?description=Hell HTTP/1.1\" 200 -\n",
            "192.168.9.61 - - [15/Feb/2024 18:00:21] \"GET /predict?description=Hell HTTP/1.1\" 200 -\n",
            "192.168.9.61 - - [15/Feb/2024 18:00:22] \"GET /predict?description=Hell HTTP/1.1\" 200 -\n",
            "192.168.9.61 - - [15/Feb/2024 18:00:47] \"GET /predict?description=Hell HTTP/1.1\" 200 -\n",
            "192.168.9.61 - - [15/Feb/2024 18:00:48] \"GET /predict?description=Hell HTTP/1.1\" 200 -\n",
            "192.168.9.61 - - [15/Feb/2024 18:00:48] \"GET /predict?description=Hell HTTP/1.1\" 200 -\n",
            "192.168.9.61 - - [15/Feb/2024 18:00:49] \"GET /predict?description=Hell HTTP/1.1\" 200 -\n",
            "192.168.9.61 - - [15/Feb/2024 18:00:50] \"GET /predict?description=Hell HTTP/1.1\" 200 -\n",
            "192.168.9.61 - - [15/Feb/2024 18:00:50] \"GET /predict?description=Hell HTTP/1.1\" 200 -\n",
            "192.168.9.61 - - [15/Feb/2024 18:00:50] \"GET /predict?description=Hell HTTP/1.1\" 200 -\n",
            "192.168.9.61 - - [15/Feb/2024 18:00:50] \"GET /predict?description=Hell HTTP/1.1\" 200 -\n",
            "192.168.9.61 - - [15/Feb/2024 18:00:50] \"GET /predict?description=Hell HTTP/1.1\" 200 -\n",
            "192.168.9.61 - - [15/Feb/2024 18:01:31] \"GET /predict?description=Hell HTTP/1.1\" 200 -\n",
            "192.168.9.61 - - [15/Feb/2024 18:01:32] \"GET /predict?description=Hell HTTP/1.1\" 200 -\n",
            "192.168.9.61 - - [15/Feb/2024 18:01:32] \"GET /predict?description=Hell HTTP/1.1\" 200 -\n",
            "192.168.9.61 - - [15/Feb/2024 18:01:32] \"GET /predict?description=Hell HTTP/1.1\" 200 -\n",
            "192.168.9.61 - - [15/Feb/2024 18:01:33] \"GET /predict?description=Hell HTTP/1.1\" 200 -\n",
            "192.168.9.61 - - [15/Feb/2024 18:01:46] \"GET /predict?description=hello HTTP/1.1\" 200 -\n",
            "192.168.9.61 - - [15/Feb/2024 18:03:18] \"GET /predict?description=hello HTTP/1.1\" 200 -\n",
            "192.168.9.61 - - [15/Feb/2024 18:03:18] \"GET /predict?description=hello HTTP/1.1\" 200 -\n",
            "192.168.9.61 - - [15/Feb/2024 18:03:18] \"GET /predict?description=hello HTTP/1.1\" 200 -\n",
            "192.168.9.61 - - [15/Feb/2024 18:03:18] \"GET /predict?description=hello HTTP/1.1\" 200 -\n",
            "192.168.9.61 - - [15/Feb/2024 18:03:28] \"GET /predict?description=heai+from+infia HTTP/1.1\" 200 -\n",
            "192.168.9.61 - - [15/Feb/2024 18:03:28] \"GET /predict?description=heai+from+infia HTTP/1.1\" 200 -\n",
            "192.168.9.61 - - [15/Feb/2024 18:03:29] \"GET /predict?description=heai+from+infia HTTP/1.1\" 200 -\n",
            "192.168.9.61 - - [15/Feb/2024 18:03:29] \"GET /predict?description=heai+from+infia HTTP/1.1\" 200 -\n",
            "192.168.9.61 - - [15/Feb/2024 18:03:36] \"GET /predict?description=heai+from+infia HTTP/1.1\" 200 -\n",
            "192.168.9.61 - - [15/Feb/2024 18:04:02] \"GET /predict?description=hello HTTP/1.1\" 200 -\n",
            "192.168.9.61 - - [15/Feb/2024 18:04:03] \"GET /predict?description=hello HTTP/1.1\" 200 -\n",
            "192.168.9.61 - - [15/Feb/2024 18:04:03] \"GET /predict?description=hello HTTP/1.1\" 200 -\n",
            "192.168.9.61 - - [15/Feb/2024 18:04:03] \"GET /predict?description=hello HTTP/1.1\" 200 -\n",
            "192.168.9.61 - - [15/Feb/2024 18:05:01] \"GET /predict?description=Three+friend+went+to+the+trip,+they+made+a+accident+which+turns+to+choas HTTP/1.1\" 200 -\n",
            "192.168.9.61 - - [15/Feb/2024 18:05:09] \"GET /predict?description=Three+friend+went+to+the+trip,+they+made+a+accident+which+turns+to+accident HTTP/1.1\" 200 -\n",
            "192.168.9.61 - - [15/Feb/2024 18:05:58] \"GET /predict?description=A+Boy+and+Girl+make+a+Love+,+after+thir+marriage+they+get+divorced,%0Aafter+long+time+they+see+will+they+join+or+not HTTP/1.1\" 200 -\n",
            "192.168.9.61 - - [15/Feb/2024 18:07:05] \"GET /predict?description=Tow+friend+went+to+the+trip+and+they+drink+more+and+got+hangover HTTP/1.1\" 200 -\n",
            "192.168.9.61 - - [15/Feb/2024 18:07:06] \"GET /predict?description=Tow+friend+went+to+the+trip+and+they+drink+more+and+got+hangover HTTP/1.1\" 200 -\n",
            "192.168.9.61 - - [15/Feb/2024 18:07:06] \"GET /predict?description=Tow+friend+went+to+the+trip+and+they+drink+more+and+got+hangover HTTP/1.1\" 200 -\n",
            "192.168.9.61 - - [15/Feb/2024 18:07:06] \"GET /predict?description=Tow+friend+went+to+the+trip+and+they+drink+more+and+got+hangover HTTP/1.1\" 200 -\n",
            "192.168.9.61 - - [15/Feb/2024 18:07:16] \"GET /predict?description=Tow+friend+went+to+the+trip+and+they+drink+more+and+got+hangover+which+turns+to+chaos HTTP/1.1\" 200 -\n",
            "192.168.9.61 - - [15/Feb/2024 18:07:24] \"GET /predict?description=six+friend+went+to+the+trip+and+they+drink+more+and+got+hangover+which+turns+to+chaos HTTP/1.1\" 200 -\n",
            "192.168.9.61 - - [15/Feb/2024 18:07:49] \"GET /predict?description=a+successful+story+of+man+from+poor+to+rich HTTP/1.1\" 200 -\n",
            "192.168.9.61 - - [15/Feb/2024 18:07:51] \"GET /predict?description=a+successful+story+of+man+from+poor+to+rich HTTP/1.1\" 200 -\n",
            "192.168.9.61 - - [15/Feb/2024 18:08:02] \"GET /predict?description=a+successful+story+of+man+from+poor+to+rich+after+they+big+struggle HTTP/1.1\" 200 -\n",
            "192.168.9.61 - - [15/Feb/2024 18:08:03] \"GET /predict?description=a+successful+story+of+man+from+poor+to+rich+after+they+big+struggle HTTP/1.1\" 200 -\n",
            "192.168.9.61 - - [15/Feb/2024 18:08:14] \"GET /predict?description=a+successful+story+of+man+from+poor+to+rich+after+they+big+s HTTP/1.1\" 200 -\n",
            "192.168.9.61 - - [15/Feb/2024 18:08:18] \"GET /predict?description=a+successful+story+of+ma HTTP/1.1\" 200 -\n",
            "192.168.9.61 - - [15/Feb/2024 18:08:20] \"GET /predict?description=a+successful+story+of+man HTTP/1.1\" 200 -\n",
            "192.168.9.61 - - [15/Feb/2024 18:08:22] \"GET /predict?description=a+successful+sto HTTP/1.1\" 200 -\n",
            "192.168.9.61 - - [15/Feb/2024 18:08:23] \"GET /predict?description=a+success HTTP/1.1\" 200 -\n",
            "192.168.9.61 - - [15/Feb/2024 18:08:25] \"GET /predict?description=a+suc HTTP/1.1\" 200 -\n",
            "192.168.9.61 - - [15/Feb/2024 18:08:28] \"GET /predict?description=xxxx HTTP/1.1\" 200 -\n",
            "192.168.9.61 - - [15/Feb/2024 18:08:31] \"GET /predict?description=xxx HTTP/1.1\" 200 -\n",
            "192.168.9.61 - - [15/Feb/2024 18:08:31] \"GET /predict?description=xxx HTTP/1.1\" 200 -\n",
            "192.168.9.61 - - [15/Feb/2024 18:08:31] \"GET /predict?description=xxx HTTP/1.1\" 200 -\n"
          ]
        }
      ],
      "source": [
        "from flask import Flask, request, jsonify\n",
        "import joblib\n",
        "\n",
        "# Initialize Flask application\n",
        "app = Flask(__name__)\n",
        "\n",
        "\n",
        "\n",
        "# Prediction function\n",
        "def predict(desc):\n",
        "    vec = tf.transform([desc])\n",
        "    pred = lr_mod.predict(vec)\n",
        "    return label_encoder.inverse_transform(pred)[0]\n",
        "\n",
        "# Route for prediction\n",
        "@app.route('/predict', methods=['GET', 'POST'])\n",
        "def predict_genre():\n",
        "    if request.method == 'POST':\n",
        "        description = request.form['description']\n",
        "    elif request.method == 'GET':\n",
        "        description = request.args.get('description', '')\n",
        "    else:\n",
        "        return jsonify({'error': 'Method Not Allowed'}), 405\n",
        "\n",
        "    prediction = predict(description)\n",
        "    return jsonify({'predict': prediction})\n",
        "\n",
        "# Run the Flask app\n",
        "if __name__ == '__main__':\n",
        "    app.run(host='0.0.0.0' ,debug=False, port=5000)\n"
      ]
    },
    {
      "cell_type": "code",
      "execution_count": null,
      "metadata": {
        "id": "d3U8BTiVcsIl"
      },
      "outputs": [],
      "source": []
    }
  ],
  "metadata": {
    "colab": {
      "provenance": []
    },
    "kaggle": {
      "accelerator": "none",
      "dataSources": [
        {
          "datasetId": 4440556,
          "sourceId": 7623069,
          "sourceType": "datasetVersion"
        }
      ],
      "dockerImageVersionId": 30635,
      "isGpuEnabled": false,
      "isInternetEnabled": true,
      "language": "python",
      "sourceType": "notebook"
    },
    "kernelspec": {
      "display_name": "Python 3",
      "language": "python",
      "name": "python3"
    },
    "language_info": {
      "codemirror_mode": {
        "name": "ipython",
        "version": 3
      },
      "file_extension": ".py",
      "mimetype": "text/x-python",
      "name": "python",
      "nbconvert_exporter": "python",
      "pygments_lexer": "ipython3",
      "version": "3.9.7"
    }
  },
  "nbformat": 4,
  "nbformat_minor": 0
}
